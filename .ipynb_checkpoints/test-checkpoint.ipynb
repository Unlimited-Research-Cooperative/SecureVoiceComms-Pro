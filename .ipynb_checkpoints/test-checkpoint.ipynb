{
 "cells": [
  {
   "cell_type": "markdown",
   "id": "d88028c4-fed1-49c7-8a98-6669587a18d8",
   "metadata": {},
   "source": [
    "# Generate key"
   ]
  },
  {
   "cell_type": "code",
   "execution_count": 2,
   "id": "57c4b79c-2613-42da-8cd6-13bcd115d93b",
   "metadata": {},
   "outputs": [
    {
     "name": "stdout",
     "output_type": "stream",
     "text": [
      "Encryption Key: b\",\\x0c@\\xfd\\xb9\\xa0n\\xc0\\xfb\\xb7\\xa5\\x08\\x82\\x8en\\x0e\\xcf\\xec'K\\xd8\\xbeQ\\xdd\\xc8\\x86}z_\\x94,\\xa5\"\n"
     ]
    }
   ],
   "source": [
    "import secrets\n",
    "\n",
    "def generate_secure_key():\n",
    "    return secrets.token_bytes(32)\n",
    "\n",
    "encryption_key = generate_secure_key()\n",
    "print(\"Encryption Key:\", encryption_key)\n"
   ]
  },
  {
   "cell_type": "markdown",
   "id": "0160f039-437d-4981-977d-5b600a191c8f",
   "metadata": {},
   "source": [
    "# Test voice_processing.py , encrypt.py , decrypt.py , and play_voice.py"
   ]
  },
  {
   "cell_type": "code",
   "execution_count": 13,
   "id": "51db114c-cce5-46a5-b44f-00b573621b92",
   "metadata": {},
   "outputs": [
    {
     "name": "stdout",
     "output_type": "stream",
     "text": [
      "Recording voice...\n",
      "Encrypting voice data...\n",
      "Decrypting voice data...\n",
      "Playing decrypted voice...\n",
      "Output audio saved to output_audio.wav\n"
     ]
    }
   ],
   "source": [
    "import voice_processing\n",
    "import encrypt\n",
    "import decrypt\n",
    "import play_voice\n",
    "import numpy as np\n",
    "import soundfile as sf\n",
    "\n",
    "# Encryption key (ensure it's 32 bytes for AES-256)\n",
    "encryption_key = b\",\\x0c@\\xfd\\xb9\\xa0n\\xc0\\xfb\\xb7\\xa5\\x08\\x82\\x8en\\x0e\\xcf\\xec'K\\xd8\\xbeQ\\xdd\\xc8\\x86}z_\\x94,\\xa5\"\n",
    "\n",
    "def test_voice_communication():\n",
    "    print(\"Recording voice...\")\n",
    "    # Record voice for 5 seconds\n",
    "    recorded_voice = voice_processing.record_voice(duration=10)\n",
    "\n",
    "    # Encrypt the recorded voice\n",
    "    print(\"Encrypting voice data...\")\n",
    "    encrypted_voice = encrypt.encrypt_data(recorded_voice.tobytes(), encryption_key)\n",
    "\n",
    "    # Decrypt the encrypted voice\n",
    "    print(\"Decrypting voice data...\")\n",
    "    decrypted_voice = decrypt.decrypt_data(encrypted_voice, encryption_key)\n",
    "\n",
    "    # Convert decrypted voice data to numpy array\n",
    "    decrypted_voice_array = np.frombuffer(decrypted_voice, dtype=np.float32)\n",
    "\n",
    "    # Play the decrypted voice\n",
    "    print(\"Playing decrypted voice...\")\n",
    "    play_voice.play_voice(decrypted_voice_array)\n",
    "\n",
    "    # Save the output audio to a file\n",
    "    output_filename = 'output_audio.wav'\n",
    "    sf.write(output_filename, decrypted_voice_array, 44100)\n",
    "    print(f\"Output audio saved to {output_filename}\")\n",
    "\n",
    "# Run the test\n",
    "test_voice_communication()"
   ]
  },
  {
   "cell_type": "code",
   "execution_count": null,
   "id": "10aaebea-4387-4060-a62c-4ab4333f4d1e",
   "metadata": {},
   "outputs": [],
   "source": []
  },
  {
   "cell_type": "code",
   "execution_count": null,
   "id": "01a148a8-2302-479e-bc23-14a9503181d3",
   "metadata": {},
   "outputs": [],
   "source": []
  }
 ],
 "metadata": {
  "kernelspec": {
   "display_name": "Python 3 (ipykernel)",
   "language": "python",
   "name": "python3"
  },
  "language_info": {
   "codemirror_mode": {
    "name": "ipython",
    "version": 3
   },
   "file_extension": ".py",
   "mimetype": "text/x-python",
   "name": "python",
   "nbconvert_exporter": "python",
   "pygments_lexer": "ipython3",
   "version": "3.10.12"
  }
 },
 "nbformat": 4,
 "nbformat_minor": 5
}
