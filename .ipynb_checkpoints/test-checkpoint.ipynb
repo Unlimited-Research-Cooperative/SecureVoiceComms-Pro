{
 "cells": [
  {
   "cell_type": "markdown",
   "id": "d88028c4-fed1-49c7-8a98-6669587a18d8",
   "metadata": {},
   "source": [
    "# Generate key"
   ]
  },
  {
   "cell_type": "code",
   "execution_count": 4,
   "id": "57c4b79c-2613-42da-8cd6-13bcd115d93b",
   "metadata": {},
   "outputs": [
    {
     "name": "stdout",
     "output_type": "stream",
     "text": [
      "Encryption Key: b'\\x9f\\x15\\xee\\x9d\\x96/OlP\\xb0\\x9f`lI<\\xa6\\x9b\\xde\\xdc\\xc6\\xf0H\\xa9\\xdb$\\xd9\\x93uS\\x15k\\xe1'\n"
     ]
    }
   ],
   "source": [
    "import secrets\n",
    "\n",
    "def generate_secure_key():\n",
    "    return secrets.token_bytes(32)\n",
    "\n",
    "encryption_key = generate_secure_key()\n",
    "print(\"Encryption Key:\", encryption_key)\n"
   ]
  },
  {
   "cell_type": "markdown",
   "id": "0160f039-437d-4981-977d-5b600a191c8f",
   "metadata": {},
   "source": [
    "# Test encrypt.py , decrypt.py"
   ]
  },
  {
   "cell_type": "code",
   "execution_count": 5,
   "id": "51db114c-cce5-46a5-b44f-00b573621b92",
   "metadata": {},
   "outputs": [
    {
     "name": "stdout",
     "output_type": "stream",
     "text": [
      "Recording voice for 5 seconds...\n",
      "Encrypting voice data...\n",
      "Decrypting voice data...\n",
      "Playing decrypted voice...\n",
      "Output audio saved to output_audio.wav\n"
     ]
    }
   ],
   "source": [
    "import numpy as np\n",
    "import sounddevice as sd\n",
    "import soundfile as sf\n",
    "from encrypt_decrypt import encrypt_data, decrypt_data\n",
    "\n",
    "# Define or import the pre-programmed key\n",
    "# For example, if main.py is in the same directory, you could import it directly\n",
    "# from main import pre_programmed_key\n",
    "# Otherwise, define it here:\n",
    "pre_programmed_key = b'\\x9f\\x15\\xee\\x9d\\x96/OlP\\xb0\\x9f`lI<\\xa6\\x9b\\xde\\xdc\\xc6\\xf0H\\xa9\\xdb$\\xd9\\x93uS\\x15k\\xe1'\n",
    "\n",
    "def test_voice_communication(duration=5, fs=44100):\n",
    "    print(\"Recording voice for 5 seconds...\")\n",
    "    # Record voice for 5 seconds\n",
    "    recorded_voice = sd.rec(int(duration * fs), samplerate=fs, channels=1, dtype='float32')\n",
    "    sd.wait()  # Wait until recording is finished\n",
    "\n",
    "    # Convert recorded voice to bytes\n",
    "    recorded_voice_bytes = recorded_voice.tobytes()\n",
    "\n",
    "    # Encrypt the recorded voice bytes using the pre-programmed key\n",
    "    print(\"Encrypting voice data...\")\n",
    "    encrypted_voice_bytes = encrypt_data(recorded_voice_bytes, pre_programmed_key)\n",
    "\n",
    "    # Decrypt the encrypted voice bytes using the same key\n",
    "    print(\"Decrypting voice data...\")\n",
    "    decrypted_voice_bytes = decrypt_data(encrypted_voice_bytes, pre_programmed_key)\n",
    "\n",
    "    # Convert the decrypted bytes back to float32\n",
    "    decrypted_voice = np.frombuffer(decrypted_voice_bytes, dtype='float32')\n",
    "\n",
    "    # Play the decrypted voice\n",
    "    print(\"Playing decrypted voice...\")\n",
    "    sd.play(decrypted_voice, fs)\n",
    "    sd.wait()  # Wait until playback is finished\n",
    "\n",
    "    # Save the output audio to a file\n",
    "    output_filename = 'output_audio.wav'\n",
    "    sf.write(output_filename, decrypted_voice, fs)\n",
    "    print(f\"Output audio saved to {output_filename}\")\n",
    "\n",
    "# Run the test\n",
    "test_voice_communication()"
   ]
  }
 ],
 "metadata": {
  "kernelspec": {
   "display_name": "Python 3 (ipykernel)",
   "language": "python",
   "name": "python3"
  },
  "language_info": {
   "codemirror_mode": {
    "name": "ipython",
    "version": 3
   },
   "file_extension": ".py",
   "mimetype": "text/x-python",
   "name": "python",
   "nbconvert_exporter": "python",
   "pygments_lexer": "ipython3",
   "version": "3.10.12"
  }
 },
 "nbformat": 4,
 "nbformat_minor": 5
}
